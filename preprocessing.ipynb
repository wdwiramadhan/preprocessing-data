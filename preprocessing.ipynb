{
  "nbformat": 4,
  "nbformat_minor": 0,
  "metadata": {
    "colab": {
      "name": "preprocessing.ipynb",
      "provenance": []
    },
    "kernelspec": {
      "name": "python3",
      "display_name": "Python 3"
    },
    "language_info": {
      "name": "python"
    }
  },
  "cells": [
    {
      "cell_type": "markdown",
      "metadata": {
        "id": "QNuqcc3XGPrc"
      },
      "source": [
        "Import Libraries"
      ]
    },
    {
      "cell_type": "code",
      "metadata": {
        "id": "EcSpIu1Y7UPP"
      },
      "source": [
        "import numpy as np\n",
        "import matplotlib.pyplot as plt\n",
        "import pandas as pd\n",
        "from sklearn.impute import SimpleImputer\n",
        "from sklearn.preprocessing import LabelEncoder, OneHotEncoder, StandardScaler  \n",
        "from sklearn.model_selection import train_test_split \n",
        "from sklearn.compose import ColumnTransformer"
      ],
      "execution_count": 29,
      "outputs": []
    },
    {
      "cell_type": "markdown",
      "metadata": {
        "id": "YM7QzBX-GUpY"
      },
      "source": [
        "Import Dataset"
      ]
    },
    {
      "cell_type": "code",
      "metadata": {
        "id": "3LocogZ2FW9F"
      },
      "source": [
        "dataset = pd.read_csv('Data.csv')\n",
        "X = dataset.iloc[:, :-1].values\n",
        "Y = dataset.iloc[:, -1].values\n",
        "print(X)\n",
        "print(Y)"
      ],
      "execution_count": null,
      "outputs": []
    },
    {
      "cell_type": "markdown",
      "metadata": {
        "id": "12a1LrZ4GaxM"
      },
      "source": [
        "Remove Missing Value"
      ]
    },
    {
      "cell_type": "code",
      "metadata": {
        "id": "Y8XeLTrPFeZ4"
      },
      "source": [
        "imputer = SimpleImputer(missing_values=np.nan, strategy='mean') \n",
        "imputer = imputer.fit(X[:, 1:3])\n",
        "X[:, 1:3] = imputer.transform(X[:, 1:3])\n",
        "print(X)"
      ],
      "execution_count": null,
      "outputs": []
    },
    {
      "cell_type": "markdown",
      "metadata": {
        "id": "NHdfnzY_HFZK"
      },
      "source": [
        "Encoding Category Data (Attribute)"
      ]
    },
    {
      "cell_type": "code",
      "metadata": {
        "id": "SXqUxx7sGf5S"
      },
      "source": [
        "ct = ColumnTransformer(transformers=[('encoder', OneHotEncoder(), [0])], remainder='passthrough')\n",
        "X = np.array(ct.fit_transform(X))\n",
        "print(X)"
      ],
      "execution_count": null,
      "outputs": []
    },
    {
      "cell_type": "markdown",
      "metadata": {
        "id": "rs0pqXo_H734"
      },
      "source": [
        "Encoding Category Data (Class/Label)"
      ]
    },
    {
      "cell_type": "code",
      "metadata": {
        "id": "qcOrfTRKHZAf"
      },
      "source": [
        "le = LabelEncoder()\n",
        "Y = le.fit_transform(Y)\n",
        "print(Y)"
      ],
      "execution_count": null,
      "outputs": []
    },
    {
      "cell_type": "markdown",
      "metadata": {
        "id": "E6mRFmQtIOan"
      },
      "source": [
        "Split Dataset Into Training Set and Test Set "
      ]
    },
    {
      "cell_type": "code",
      "metadata": {
        "id": "_QkSOhe9IYcw"
      },
      "source": [
        "X_train, X_test, Y_train, Y_test = train_test_split(X, Y, test_size=0.2, random_state=1)\n",
        "sc_X = StandardScaler()\n",
        "print(X_train)\n",
        "print(X_test)\n",
        "print(Y_train)\n",
        "print(Y_test)"
      ],
      "execution_count": null,
      "outputs": []
    },
    {
      "cell_type": "markdown",
      "metadata": {
        "id": "_fhiRtDsHJUm"
      },
      "source": [
        "Feature Scaling"
      ]
    },
    {
      "cell_type": "code",
      "metadata": {
        "id": "UEzlTYnWGo31"
      },
      "source": [
        "X_train[:, 3:] = sc_X.fit_transform(X_train[:, 3:])\n",
        "X_test[:, 3:] = sc_X.transform(X_test[:, 3:])\n",
        "print(X_train)\n",
        "print(X_test)"
      ],
      "execution_count": null,
      "outputs": []
    }
  ]
}